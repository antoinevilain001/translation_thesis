{
 "cells": [
  {
   "cell_type": "code",
   "execution_count": 14,
   "metadata": {},
   "outputs": [],
   "source": [
    "from comet import download_model, load_from_checkpoint\n",
    "import csv\n",
    "import numpy as np"
   ]
  },
  {
   "cell_type": "code",
   "execution_count": 10,
   "metadata": {},
   "outputs": [],
   "source": [
    "# model_path = download_model(\"Unbabel/wmt22-comet-da\", saving_directory=\"models/comet_wmt22\")\n",
    "model_path = \"models/comet_wmt22/models--Unbabel--wmt22-comet-da/snapshots/2760a223ac957f30acfb18c8aa649b01cf1d75f2/checkpoints/model.ckpt\""
   ]
  },
  {
   "cell_type": "code",
   "execution_count": null,
   "metadata": {},
   "outputs": [
    {
     "name": "stdout",
     "output_type": "stream",
     "text": [
      "C:\\Users\\antoi\\OneDrive\\Documents\\UofT Fall 2024\\ESC499 - Thesis\\github\\translation_thesis\\translation_analysis\\analysis1\\models\\comet_wmt22\\models--Unbabel--wmt22-comet-da\\snapshots¾0a223ac957f30acfb18c8aa649b01cf1d75f2\\checkpoints\\model.ckpt\n"
     ]
    }
   ],
   "source": [
    "print(model_path)"
   ]
  },
  {
   "cell_type": "code",
   "execution_count": 11,
   "metadata": {},
   "outputs": [
    {
     "name": "stderr",
     "output_type": "stream",
     "text": [
      "Lightning automatically upgraded your loaded checkpoint from v1.8.3.post1 to v2.5.0.post0. To apply the upgrade to your files permanently, run `python -m pytorch_lightning.utilities.upgrade_checkpoint c:\\Users\\antoi\\OneDrive\\Documents\\UofT Fall 2024\\ESC499 - Thesis\\github\\translation_thesis\\translation_analysis\\analysis1\\models\\comet_wmt22\\models--Unbabel--wmt22-comet-da\\snapshots\\2760a223ac957f30acfb18c8aa649b01cf1d75f2\\checkpoints\\model.ckpt`\n",
      "Encoder model frozen.\n",
      "c:\\Users\\antoi\\OneDrive\\Documents\\UofT Fall 2024\\ESC499 - Thesis\\github\\translation_thesis\\venv\\lib\\site-packages\\pytorch_lightning\\core\\saving.py:195: Found keys that are not in the model state dict but in the checkpoint: ['encoder.model.embeddings.position_ids']\n"
     ]
    }
   ],
   "source": [
    "model = load_from_checkpoint(model_path)"
   ]
  },
  {
   "cell_type": "code",
   "execution_count": 15,
   "metadata": {},
   "outputs": [
    {
     "name": "stdout",
     "output_type": "stream",
     "text": [
      "[['\\ufeffid' 'direction' 'text' 'translation1_googleTranslate'\n",
      "  'translation2_chatGPT' 'preferred_translation' 'date_added']\n",
      " ['1' 'eng_to_spa' 'You run' 'Tu corres' 'Tú corres.' '2'\n",
      "  '2024-11-23 19:01:39']\n",
      " ['2' 'eng_to_spa' 'Yes' 'Sí' 'Sí' '3' '2024-11-23 19:01:50']\n",
      " ['3' 'spa_to_eng' 'tu esposa te regañaba por no recoger a sus niños'\n",
      "  'Your wife scolded you for not picking up your children'\n",
      "  'Your wife would scold you for not picking up her kids.' '1'\n",
      "  '2024-11-23 19:38:39']\n",
      " ['4' 'spa_to_eng' 'Obtén un batidor. Bate las fresas.'\n",
      "  'Get a mixer. Blend the strawberries.'\n",
      "  'Get a whisk. Whisk the strawberries.' '1' '2024-11-23 19:39:28']\n",
      " ['7' 'eng_to_spa' 'Barcelona beat Real Madrid'\n",
      "  'El Barcelona venció al Real Madrid'\n",
      "  'El Barcelona venció al Real Madrid.' '3' '2024-11-23 19:42:17']\n",
      " ['8' 'spa_to_eng' 'un callejón' 'an alley' 'a alleyway' '1'\n",
      "  '2024-11-24 01:25:15']\n",
      " ['9' 'eng_to_spa' 'you run' 'tu corres' 'tú corres' '2'\n",
      "  '2024-11-26 21:29:20']\n",
      " ['10' 'eng_to_spa' 'Hello how are you?' '¿Hola, cómo estás?'\n",
      "  'Hola, ¿cómo estás?' '3' '2024-11-26 21:29:53']\n",
      " ['11' 'eng_to_spa' 'my head hurts' 'Me duele la cabeza'\n",
      "  'Me duele la cabeza.' '3' '2024-12-31 21:08:33']]\n"
     ]
    }
   ],
   "source": [
    "def read_first_10_lines(csv_file_path):\n",
    "    try:\n",
    "        data = []  # Store rows in a list\n",
    "        with open(csv_file_path, mode='r', newline='', encoding='utf-8') as file:\n",
    "            reader = csv.reader(file)\n",
    "            for i, row in enumerate(reader):\n",
    "                data.append(row)  # Append each row to the list\n",
    "                if i >= 9:  # Stop after reading 10 lines\n",
    "                    break\n",
    "        return np.array(data)  # Convert list to NumPy array\n",
    "    except FileNotFoundError:\n",
    "        print(f\"Error: The file '{csv_file_path}' does not exist.\")\n",
    "        return None\n",
    "    except Exception as e:\n",
    "        print(f\"An error occurred: {e}\")\n",
    "        return None\n",
    "\n",
    "# Example usage\n",
    "csv_file_path = '../../data_collection_app/app_latest_database/translation.csv'\n",
    "numpy_array = read_first_10_lines(csv_file_path)\n",
    "\n",
    "# Print the NumPy array\n",
    "if numpy_array is not None:\n",
    "    print(numpy_array)\n"
   ]
  },
  {
   "cell_type": "code",
   "execution_count": 6,
   "metadata": {},
   "outputs": [
    {
     "name": "stderr",
     "output_type": "stream",
     "text": [
      "GPU available: False, used: False\n",
      "TPU available: False, using: 0 TPU cores\n",
      "HPU available: False, using: 0 HPUs\n",
      "Predicting DataLoader 0: 100%|██████████| 1/1 [00:02<00:00,  2.12s/it]\n"
     ]
    }
   ],
   "source": [
    "data = [\n",
    "    {\n",
    "        \"src\": \"10 到 15 分钟可以送到吗\",\n",
    "        \"mt\": \"Can I receive my food in 10 to 15 minutes?\",\n",
    "        \"ref\": \"Can it be delivered between 10 to 15 minutes?\"\n",
    "    },\n",
    "    {\n",
    "        \"src\": \"Pode ser entregue dentro de 10 a 15 minutos?\",\n",
    "        \"mt\": \"Can you send it for 10 to 15 minutes?\",\n",
    "        \"ref\": \"Can it be delivered between 10 to 15 minutes?\"\n",
    "    }\n",
    "]\n",
    "# Call predict method:\n",
    "model_output = model.predict(data, batch_size=8, gpus=0) # quite rapid"
   ]
  },
  {
   "cell_type": "code",
   "execution_count": 7,
   "metadata": {},
   "outputs": [
    {
     "name": "stdout",
     "output_type": "stream",
     "text": [
      "Prediction([('scores', [0.8417138457298279, 0.7745394110679626]), ('system_score', 0.8081266283988953)])\n"
     ]
    }
   ],
   "source": [
    "print(model_output)"
   ]
  },
  {
   "cell_type": "code",
   "execution_count": null,
   "metadata": {},
   "outputs": [
    {
     "name": "stdout",
     "output_type": "stream",
     "text": [
      "Prediction([('scores', [0.8417138457298279, 0.7745394110679626]), ('system_score', 0.8081266283988953)])\n"
     ]
    }
   ],
   "source": [
    "print(model_output)"
   ]
  }
 ],
 "metadata": {
  "kernelspec": {
   "display_name": "Python (venv)",
   "language": "python",
   "name": "venv"
  },
  "language_info": {
   "codemirror_mode": {
    "name": "ipython",
    "version": 3
   },
   "file_extension": ".py",
   "mimetype": "text/x-python",
   "name": "python",
   "nbconvert_exporter": "python",
   "pygments_lexer": "ipython3",
   "version": "3.10.1"
  }
 },
 "nbformat": 4,
 "nbformat_minor": 2
}

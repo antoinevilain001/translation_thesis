{
 "cells": [
  {
   "cell_type": "code",
   "execution_count": 36,
   "metadata": {},
   "outputs": [],
   "source": [
    "from comet import download_model, load_from_checkpoint\n",
    "import csv\n",
    "import numpy as np\n",
    "import pandas as pd\n",
    "import matplotlib.pyplot as plt\n",
    "import openai\n",
    "from openai import OpenAI\n",
    "import os\n",
    "import requests\n",
    "from dotenv import load_dotenv"
   ]
  },
  {
   "cell_type": "code",
   "execution_count": 2,
   "metadata": {},
   "outputs": [],
   "source": [
    "#model_path = download_model(\"Unbabel/wmt22-comet-da\", saving_directory=\"models/comet_wmt22\")\n",
    "model_path = \"models/comet_wmt22/models--Unbabel--wmt22-comet-da/snapshots/2760a223ac957f30acfb18c8aa649b01cf1d75f2/checkpoints/model.ckpt\""
   ]
  },
  {
   "cell_type": "code",
   "execution_count": 3,
   "metadata": {},
   "outputs": [
    {
     "name": "stdout",
     "output_type": "stream",
     "text": [
      "models/comet_wmt22/models--Unbabel--wmt22-comet-da/snapshots/2760a223ac957f30acfb18c8aa649b01cf1d75f2/checkpoints/model.ckpt\n"
     ]
    }
   ],
   "source": [
    "print(model_path)"
   ]
  },
  {
   "cell_type": "code",
   "execution_count": 4,
   "metadata": {},
   "outputs": [
    {
     "name": "stderr",
     "output_type": "stream",
     "text": [
      "Lightning automatically upgraded your loaded checkpoint from v1.8.3.post1 to v2.5.0.post0. To apply the upgrade to your files permanently, run `python -m pytorch_lightning.utilities.upgrade_checkpoint c:\\Users\\antoi\\OneDrive\\Documents\\UofT Fall 2024\\ESC499 - Thesis\\github\\translation_thesis\\translation_analysis\\analysis1\\models\\comet_wmt22\\models--Unbabel--wmt22-comet-da\\snapshots\\2760a223ac957f30acfb18c8aa649b01cf1d75f2\\checkpoints\\model.ckpt`\n",
      "Encoder model frozen.\n",
      "c:\\Users\\antoi\\OneDrive\\Documents\\UofT Fall 2024\\ESC499 - Thesis\\github\\translation_thesis\\venv\\lib\\site-packages\\pytorch_lightning\\core\\saving.py:195: Found keys that are not in the model state dict but in the checkpoint: ['encoder.model.embeddings.position_ids']\n"
     ]
    }
   ],
   "source": [
    "model = load_from_checkpoint(model_path)"
   ]
  },
  {
   "cell_type": "code",
   "execution_count": 6,
   "metadata": {},
   "outputs": [
    {
     "name": "stderr",
     "output_type": "stream",
     "text": [
      "GPU available: False, used: False\n",
      "TPU available: False, using: 0 TPU cores\n",
      "HPU available: False, using: 0 HPUs\n",
      "Predicting DataLoader 0: 100%|██████████| 1/1 [00:02<00:00,  2.12s/it]\n"
     ]
    }
   ],
   "source": [
    "data = [\n",
    "    {\n",
    "        \"src\": \"10 到 15 分钟可以送到吗\",\n",
    "        \"mt\": \"Can I receive my food in 10 to 15 minutes?\",\n",
    "        \"ref\": \"Can it be delivered between 10 to 15 minutes?\"\n",
    "    },\n",
    "    {\n",
    "        \"src\": \"Pode ser entregue dentro de 10 a 15 minutos?\",\n",
    "        \"mt\": \"Can you send it for 10 to 15 minutes?\",\n",
    "        \"ref\": \"Can it be delivered between 10 to 15 minutes?\"\n",
    "    }\n",
    "]\n",
    "# Call predict method:\n",
    "model_output = model.predict(data, batch_size=8, gpus=0) # quite rapid"
   ]
  },
  {
   "cell_type": "code",
   "execution_count": 7,
   "metadata": {},
   "outputs": [
    {
     "name": "stdout",
     "output_type": "stream",
     "text": [
      "Prediction([('scores', [0.8417138457298279, 0.7745394110679626]), ('system_score', 0.8081266283988953)])\n"
     ]
    }
   ],
   "source": [
    "print(model_output)"
   ]
  },
  {
   "cell_type": "code",
   "execution_count": 41,
   "metadata": {},
   "outputs": [
    {
     "name": "stdout",
     "output_type": "stream",
     "text": [
      "API Key loaded: sk-pr...\n",
      "API Key loaded: AIzaS...\n"
     ]
    }
   ],
   "source": [
    "load_dotenv()  # Load variables from .env file\n",
    "\n",
    "openai_api_key = os.getenv(\"OPENAI_API_KEY\")\n",
    "print(\"API Key loaded:\", openai_api_key[:5] + \"...\" if openai_api_key else \"Not found\")\n",
    "\n",
    "# Set your OpenAI API key\n",
    "client = OpenAI(\n",
    "    api_key=openai_api_key\n",
    ")\n",
    "\n",
    "googletranslate_api_key = os.getenv(\"GOOGLE_API_KEY\")\n",
    "print(\"API Key loaded:\", googletranslate_api_key[:5] + \"...\" if googletranslate_api_key else \"Not found\")\n",
    "GOOGLE_API_KEY = googletranslate_api_key"
   ]
  },
  {
   "cell_type": "code",
   "execution_count": 45,
   "metadata": {},
   "outputs": [
    {
     "name": "stderr",
     "output_type": "stream",
     "text": [
      "HTTP Request: POST https://api.openai.com/v1/chat/completions \"HTTP/1.1 200 OK\"\n"
     ]
    },
    {
     "name": "stdout",
     "output_type": "stream",
     "text": [
      "Hello\n"
     ]
    }
   ],
   "source": [
    "def askChatGPT(user_input, language_input):\n",
    "    if (language_input == \"eng_to_spa\"):\n",
    "        language_selector = \"English to Spanish\"\n",
    "    elif (language_input == \"spa_to_eng\"):\n",
    "        language_selector = \"Spanish to English\"\n",
    "    \n",
    "    try:\n",
    "        # Use the OpenAI API to get a response from ChatGPT\n",
    "        completion = client.chat.completions.create(\n",
    "            model=\"gpt-4o-mini\",\n",
    "            messages=[\n",
    "                {\n",
    "                    \"role\": \"system\",\n",
    "                    \"content\": \"You are a helpful assistant. Please translate the following text from \"+language_selector+\". Include the translation and nothing else.\"\n",
    "                },\n",
    "                {\n",
    "                    \"role\": \"user\",\n",
    "                    \"content\": user_input\n",
    "                }\n",
    "            ]\n",
    "        )\n",
    "\n",
    "        #print(completion.choices[0].message)\n",
    "        result = completion.choices[0].message.content  # Correctly access content\n",
    "        return result\n",
    "        # return completion.choices[0]\n",
    "    \n",
    "    except Exception as e:\n",
    "        print(e)\n",
    "        return \"ERROR\"\n",
    "\n",
    "result = askChatGPT(\"Hola\", \"spa_to_eng\")\n",
    "print(result)"
   ]
  },
  {
   "cell_type": "code",
   "execution_count": 42,
   "metadata": {},
   "outputs": [
    {
     "name": "stdout",
     "output_type": "stream",
     "text": [
      "translated text returned: {'data': {'translations': [{'translatedText': 'Hello'}]}}\n",
      "translated text parsed: Hello\n",
      "Hello\n"
     ]
    }
   ],
   "source": [
    "def askGoogleTranslate(text_to_translate, language_input):\n",
    "    source_language = ''\n",
    "    target_language = ''\n",
    "    if (language_input == \"eng_to_spa\"):\n",
    "        source_language = \"en\"\n",
    "        target_language = \"es\"\n",
    "    elif (language_input == \"spa_to_eng\"):\n",
    "        source_language = \"es\"\n",
    "        target_language = \"en\"\n",
    "\n",
    "    # Make the request to Google Translate API\n",
    "    try:\n",
    "        # Set up the URL for Google Translate API\n",
    "        url = f\"https://translation.googleapis.com/language/translate/v2\"\n",
    "\n",
    "        # Payload for the API request\n",
    "        params = {\n",
    "            'q': text_to_translate,\n",
    "            'target': target_language,\n",
    "            'source': source_language,\n",
    "            #'key': \"invalid_key\"\n",
    "            'key': GOOGLE_API_KEY\n",
    "        }\n",
    "\n",
    "        # Make the request to the Google Translate API\n",
    "        response = requests.get(url, params=params)\n",
    "\n",
    "        # Check if the response is successful\n",
    "        if response.status_code != 200:\n",
    "            print(\"Google Translate API has returned an error\")\n",
    "            #return jsonify({\"error\": \"Translation API request failed\"})\n",
    "            print(response)\n",
    "            return response\n",
    "        \n",
    "\n",
    "        # Extract the translated text from the API response\n",
    "        print(\"translated text returned: \"+ str(response.json()))\n",
    "        #translated_text = response.json().translations[0].translatedText\n",
    "        translated_text = response.json()['data']['translations'][0]['translatedText']\n",
    "        print(\"translated text parsed: \"+ translated_text)\n",
    "\n",
    "        # Return the translated text\n",
    "        return translated_text\n",
    "\n",
    "    except Exception as e:\n",
    "        print(str(e))\n",
    "        return \"ERROR\"\n",
    "    \n",
    "result = askGoogleTranslate(\"Hola\", \"spa_to_eng\")\n",
    "print(result)"
   ]
  },
  {
   "cell_type": "code",
   "execution_count": 59,
   "metadata": {},
   "outputs": [
    {
     "name": "stdout",
     "output_type": "stream",
     "text": [
      "[[\"Tom told Mary that he wouldn't be doing anything dangerous.\"\n",
      "  'Tom le dijo a Mary que él no haría nada peligroso.']\n",
      " ['Tom took one of the shirts out of the closet and put it on.'\n",
      "  'Tom sacó una de las camisas del armario y se la puso.']\n",
      " ['Tom took the CD out of its case and put it into the player.'\n",
      "  'Tom sacó el CD de su caja y lo puso en el reproductor.']\n",
      " ['Tom wanted to eat at the small restaurant behind the hotel.'\n",
      "  'Tom quería comer en el pequeño restaurante detrás del hotel.']\n",
      " ['Tom was caught red-handed, stealing from the cash register.'\n",
      "  'Tom fue atrapado con las manos en la masa, robando de la caja registradora.']\n",
      " ['Tom was looking for some people to help him move his piano.'\n",
      "  'Tom estaba buscando gente que le ayudara a mover su piano.']\n",
      " ['Tom was really glad to hear that Mary had passed her exams.'\n",
      "  'Tom estaba realmente contento al oír que María había aprobado sus exámenes.']\n",
      " ['Tom was relieved to hear that Mary had arrived home safely.'\n",
      "  'Tom estaba aliviado al oír que María había llegado sana y salva a casa.']\n",
      " ['Tom was stupid enough to challenge Mary to a game of chess.'\n",
      "  'Tom fue lo suficientemente estúpido para desafiar a María a una partida de ajedrez.']\n",
      " ['Tom was unable to remember what he had eaten for breakfast.'\n",
      "  'Tom no podía recordar qué había comido de desayuno.']]\n"
     ]
    }
   ],
   "source": [
    "def read_csv_partial_to_numpy(csv_file_path, start_line=100_000, num_lines=100):\n",
    "    try:\n",
    "        # Read specific part of CSV: skip first (start_line) rows, then read (num_lines) rows\n",
    "        df = pd.read_csv(\n",
    "            csv_file_path,\n",
    "            encoding='utf-8-sig',\n",
    "            skiprows=range(1, start_line + 1),  # skip header and up to start_line\n",
    "            nrows=num_lines  # read only num_lines rows\n",
    "        )\n",
    "        \n",
    "        # Convert DataFrame to NumPy array\n",
    "        numpy_array = df.to_numpy()\n",
    "        return numpy_array\n",
    "    \n",
    "    except FileNotFoundError:\n",
    "        print(f\"Error: The file '{csv_file_path}' does not exist.\")\n",
    "        return None\n",
    "    except Exception as e:\n",
    "        print(f\"An error occurred: {e}\")\n",
    "        return None\n",
    "\n",
    "start_line = 114_800\n",
    "num_lines = 100\n",
    "csv_file_path = '../public_database/data.csv'\n",
    "numpy_array = read_csv_partial_to_numpy(csv_file_path, start_line, num_lines)\n",
    "\n",
    "print(numpy_array[:10])"
   ]
  },
  {
   "cell_type": "code",
   "execution_count": null,
   "metadata": {},
   "outputs": [],
   "source": [
    "%%capture captured_output\n",
    "# need to capture to suppress output because otherwise way too much\n",
    "\n",
    "translated = []\n",
    "data_array = []\n",
    "evaluated = []\n",
    "\n",
    "for i in range(num_lines):\n",
    "    cur = []\n",
    "    src = numpy_array[i][0]\n",
    "    print(src)\n",
    "    ref = numpy_array[i][1]\n",
    "    print(ref)\n",
    "    chatgpt = askChatGPT(src, \"eng_to_spa\")\n",
    "    print(chatgpt)\n",
    "    googletranslate = askGoogleTranslate(src, \"eng_to_spa\")\n",
    "    print(googletranslate)\n",
    "\n",
    "    cur.append(src)\n",
    "    cur.append(ref)\n",
    "    cur.append(chatgpt)\n",
    "    cur.append(googletranslate)\n",
    "    translated.append(cur)\n",
    "\n",
    "    #Prepare the data for prediction (src, mt) pairs\n",
    "    data = [\n",
    "        {\n",
    "            \"src\": src,  # Source sentence\n",
    "            \"ref\": ref,\n",
    "            \"mt\": chatgpt   # Machine translation\n",
    "        },\n",
    "        {\n",
    "            \"src\": src,  # Source sentence\n",
    "            \"ref\": ref,\n",
    "            \"mt\": googletranslate   # Another machine translation for comparison\n",
    "        }\n",
    "    ]\n",
    "    \n",
    "    # Call the predict method\n",
    "    model_output = model.predict(data, batch_size=8, gpus=0)\n",
    "    data_array.append(data)\n",
    "    evaluated.append(model_output)  # Save the prediction result\n",
    "\n",
    "translated_array = np.array(translated)\n",
    "evaluated_array = np.array(evaluated)\n",
    "data_nparray = np.array(data_array)\n",
    "print(evaluated_array[0])\n",
    "print(translated_array[0])\n",
    "print(data_nparray[0])\n",
    "np.save(f'checkpoints/analysis_app_data/translated_{start_line}_{num_lines}.npy', translated_array)\n",
    "np.save(f'checkpoints/analysis_app_data/evaluated_{start_line}_{num_lines}.npy', evaluated_array)\n",
    "np.save(f'checkpoints/analysis_app_data/data_{start_line}_{num_lines}.npy', data_nparray)"
   ]
  },
  {
   "cell_type": "code",
   "execution_count": 61,
   "metadata": {},
   "outputs": [
    {
     "name": "stdout",
     "output_type": "stream",
     "text": [
      "Prediction([('scores', [0.8864222168922424, 0.9176087975502014]), ('system_score', 0.9020155072212219)])\n",
      "[\"He who fights may lose, but he who doesn't has already lost.\"\n",
      " 'El que lucha puede perder, el que no lucha ya perdió.'\n",
      " 'Quien lucha puede perder, pero quien no lo hace ya ha perdido.'\n",
      " 'El que lucha puede perder, pero el que no lo hace ya ha perdido.']\n",
      "[{'src': \"He who fights may lose, but he who doesn't has already lost.\", 'ref': 'El que lucha puede perder, el que no lucha ya perdió.', 'mt': 'Quien lucha puede perder, pero quien no lo hace ya ha perdido.'}\n",
      " {'src': \"He who fights may lose, but he who doesn't has already lost.\", 'ref': 'El que lucha puede perder, el que no lucha ya perdió.', 'mt': 'El que lucha puede perder, pero el que no lo hace ya ha perdido.'}]\n"
     ]
    }
   ],
   "source": [
    "print(evaluated_array[99])\n",
    "print(translated_array[99])\n",
    "print(data_nparray[99])"
   ]
  },
  {
   "cell_type": "code",
   "execution_count": 63,
   "metadata": {},
   "outputs": [
    {
     "name": "stdout",
     "output_type": "stream",
     "text": [
      "Translated array shape: (100, 4) (100, 4)\n",
      "Evaluated array shape: (100,) (100,)\n",
      "Data array shape: (100, 2) (100, 2)\n"
     ]
    }
   ],
   "source": [
    "# Reload the arrays\n",
    "# \n",
    "# # Define the start line and number of lines (if you want to reuse these variables dynamically)\n",
    "loading_start_line = 114800\n",
    "loading_num_lines = 100\n",
    "\n",
    "# Construct file paths dynamically\n",
    "translated_path = f'checkpoints/analysis_app_data/translated_{loading_start_line}_{loading_num_lines}.npy'\n",
    "evaluated_path = f'checkpoints/analysis_app_data/evaluated_{loading_start_line}_{loading_num_lines}.npy'\n",
    "data_path = f'checkpoints/analysis_app_data/data_{loading_start_line}_{loading_num_lines}.npy'\n",
    "\n",
    "# Load the arrays\n",
    "loaded_translated_array = np.load(translated_path, allow_pickle=True)  # allow_pickle if it's an object array like list/dict\n",
    "loaded_evaluated_array = np.load(evaluated_path, allow_pickle=True)\n",
    "loaded_data_nparray = np.load(data_path, allow_pickle=True)\n",
    "\n",
    "# Now you can use them\n",
    "print(\"Translated array shape:\", loaded_translated_array.shape, translated_array.shape)\n",
    "print(\"Evaluated array shape:\", loaded_evaluated_array.shape, evaluated_array.shape)\n",
    "print(\"Data array shape:\", loaded_data_nparray.shape, data_nparray.shape)\n"
   ]
  },
  {
   "cell_type": "code",
   "execution_count": 65,
   "metadata": {},
   "outputs": [
    {
     "name": "stdout",
     "output_type": "stream",
     "text": [
      "Prediction([('scores', [0.9684159755706787, 0.9684159755706787]), ('system_score', 0.9684159755706787)])\n",
      "0.9684159755706787\n"
     ]
    }
   ],
   "source": [
    "print(loaded_evaluated_array[0])\n",
    "print(loaded_evaluated_array[0].scores[0])"
   ]
  },
  {
   "cell_type": "code",
   "execution_count": null,
   "metadata": {},
   "outputs": [
    {
     "name": "stdout",
     "output_type": "stream",
     "text": [
      "[ 0.00000000e+00  5.96046448e-08  0.00000000e+00  5.96046448e-08\n",
      " -3.69703770e-02 -7.03966618e-03 -1.19209290e-07  6.35027885e-04\n",
      " -9.86337662e-03  1.53754354e-02]\n",
      "Prediction([('scores', [0.9629895091056824, 0.9629894495010376]), ('system_score', 0.96298947930336)])\n"
     ]
    }
   ],
   "source": [
    "# Extract the difference scores[0] - scores[1] for each object\n",
    "score_differences = np.array([\n",
    "    item.scores[0] - item.scores[1]\n",
    "    for item in loaded_evaluated_array\n",
    "])\n",
    "\n",
    "print(score_differences[:10])  # Preview first 10 to check"
   ]
  },
  {
   "cell_type": "code",
   "execution_count": 68,
   "metadata": {},
   "outputs": [
    {
     "name": "stdout",
     "output_type": "stream",
     "text": [
      "Prediction([('scores', [0.9629895091056824, 0.9629894495010376]), ('system_score', 0.96298947930336)])\n",
      "[{'src': 'Tom took one of the shirts out of the closet and put it on.', 'ref': 'Tom sacó una de las camisas del armario y se la puso.', 'mt': 'Tom sacó una de las camisas del armario y se la puso.'}\n",
      " {'src': 'Tom took one of the shirts out of the closet and put it on.', 'ref': 'Tom sacó una de las camisas del armario y se la puso.', 'mt': 'Tom sacó una de las camisas del armario y se la puso.'}]\n"
     ]
    }
   ],
   "source": [
    "print(loaded_evaluated_array[1])\n",
    "print(loaded_data_nparray[1])"
   ]
  },
  {
   "cell_type": "code",
   "execution_count": 69,
   "metadata": {},
   "outputs": [
    {
     "data": {
      "image/png": "[encoded data removed]",
      "text/plain": [
       "<Figure size 640x480 with 1 Axes>"
      ]
     },
     "metadata": {},
     "output_type": "display_data"
    }
   ],
   "source": [
    "def plot_histogram():\n",
    "    # Plot histogram\n",
    "    plt.hist(score_differences, bins=20, edgecolor='black')  # Adjust bins as needed\n",
    "    plt.xlabel('Score Difference (scores[0] - scores[1])')\n",
    "    plt.ylabel('Frequency')\n",
    "    plt.title('Histogram of Score Differences')\n",
    "    plt.show()\n",
    "\n",
    "plot_histogram()"
   ]
  },
  {
   "cell_type": "code",
   "execution_count": 72,
   "metadata": {},
   "outputs": [
    {
     "name": "stdout",
     "output_type": "stream",
     "text": [
      "[0.928253937959671, 0.9259342342615128]\n",
      "[43, 41, 16]\n",
      "[6, 5, 89]\n"
     ]
    }
   ],
   "source": [
    "def analyze(score_array, threshold = 0.05):\n",
    "    total_scores = [0, 0]\n",
    "    wins = [0, 0, 0]\n",
    "    wins_above_threshold = [0, 0, 0]\n",
    "\n",
    "    n = len(score_array)\n",
    "\n",
    "    for i in range(n):\n",
    "        score0 = score_array[i].scores[0]\n",
    "        score1 = score_array[i].scores[1]\n",
    "        diff = score0 - score1\n",
    "\n",
    "        total_scores[0] += score0\n",
    "        total_scores[1] += score1\n",
    "\n",
    "        if diff > 0:\n",
    "            wins[0] +=1\n",
    "        elif diff < 0:\n",
    "            wins[1] +=1\n",
    "        else:\n",
    "            wins[2] +=1\n",
    "\n",
    "        if diff > threshold:\n",
    "            wins_above_threshold[0] +=1\n",
    "        elif diff < -threshold:\n",
    "            wins_above_threshold[1] +=1\n",
    "        else:\n",
    "            wins_above_threshold[2] +=1\n",
    "\n",
    "    average_scores = [total_scores[0]/n, total_scores[1]/n]\n",
    "    print(average_scores)\n",
    "    print(wins)\n",
    "    print(wins_above_threshold)\n",
    "\n",
    "analyze(loaded_evaluated_array, 0.05)"
   ]
  }
 ],
 "metadata": {
  "kernelspec": {
   "display_name": "Python (venv)",
   "language": "python",
   "name": "venv"
  },
  "language_info": {
   "codemirror_mode": {
    "name": "ipython",
    "version": 3
   },
   "file_extension": ".py",
   "mimetype": "text/x-python",
   "name": "python",
   "nbconvert_exporter": "python",
   "pygments_lexer": "ipython3",
   "version": "3.10.1"
  }
 },
 "nbformat": 4,
 "nbformat_minor": 2
}

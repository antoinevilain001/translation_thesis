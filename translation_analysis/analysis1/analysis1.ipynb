{
 "cells": [
  {
   "cell_type": "code",
   "execution_count": 36,
   "metadata": {},
   "outputs": [],
   "source": [
    "from comet import download_model, load_from_checkpoint\n",
    "import csv\n",
    "import numpy as np\n",
    "import pandas as pd\n",
    "import matplotlib.pyplot as plt\n",
    "import openai\n",
    "from openai import OpenAI\n",
    "import os\n",
    "import requests\n",
    "from dotenv import load_dotenv"
   ]
  },
  {
   "cell_type": "code",
   "execution_count": 2,
   "metadata": {},
   "outputs": [],
   "source": [
    "#model_path = download_model(\"Unbabel/wmt22-comet-da\", saving_directory=\"models/comet_wmt22\")\n",
    "model_path = \"models/comet_wmt22/models--Unbabel--wmt22-comet-da/snapshots/2760a223ac957f30acfb18c8aa649b01cf1d75f2/checkpoints/model.ckpt\""
   ]
  },
  {
   "cell_type": "code",
   "execution_count": 3,
   "metadata": {},
   "outputs": [
    {
     "name": "stdout",
     "output_type": "stream",
     "text": [
      "models/comet_wmt22/models--Unbabel--wmt22-comet-da/snapshots/2760a223ac957f30acfb18c8aa649b01cf1d75f2/checkpoints/model.ckpt\n"
     ]
    }
   ],
   "source": [
    "print(model_path)"
   ]
  },
  {
   "cell_type": "code",
   "execution_count": 4,
   "metadata": {},
   "outputs": [
    {
     "name": "stderr",
     "output_type": "stream",
     "text": [
      "Lightning automatically upgraded your loaded checkpoint from v1.8.3.post1 to v2.5.0.post0. To apply the upgrade to your files permanently, run `python -m pytorch_lightning.utilities.upgrade_checkpoint c:\\Users\\antoi\\OneDrive\\Documents\\UofT Fall 2024\\ESC499 - Thesis\\github\\translation_thesis\\translation_analysis\\analysis1\\models\\comet_wmt22\\models--Unbabel--wmt22-comet-da\\snapshots\\2760a223ac957f30acfb18c8aa649b01cf1d75f2\\checkpoints\\model.ckpt`\n",
      "Encoder model frozen.\n",
      "c:\\Users\\antoi\\OneDrive\\Documents\\UofT Fall 2024\\ESC499 - Thesis\\github\\translation_thesis\\venv\\lib\\site-packages\\pytorch_lightning\\core\\saving.py:195: Found keys that are not in the model state dict but in the checkpoint: ['encoder.model.embeddings.position_ids']\n"
     ]
    }
   ],
   "source": [
    "model = load_from_checkpoint(model_path)"
   ]
  },
  {
   "cell_type": "code",
   "execution_count": 6,
   "metadata": {},
   "outputs": [
    {
     "name": "stderr",
     "output_type": "stream",
     "text": [
      "GPU available: False, used: False\n",
      "TPU available: False, using: 0 TPU cores\n",
      "HPU available: False, using: 0 HPUs\n",
      "Predicting DataLoader 0: 100%|██████████| 1/1 [00:02<00:00,  2.12s/it]\n"
     ]
    }
   ],
   "source": [
    "data = [\n",
    "    {\n",
    "        \"src\": \"10 到 15 分钟可以送到吗\",\n",
    "        \"mt\": \"Can I receive my food in 10 to 15 minutes?\",\n",
    "        \"ref\": \"Can it be delivered between 10 to 15 minutes?\"\n",
    "    },\n",
    "    {\n",
    "        \"src\": \"Pode ser entregue dentro de 10 a 15 minutos?\",\n",
    "        \"mt\": \"Can you send it for 10 to 15 minutes?\",\n",
    "        \"ref\": \"Can it be delivered between 10 to 15 minutes?\"\n",
    "    }\n",
    "]\n",
    "# Call predict method:\n",
    "model_output = model.predict(data, batch_size=8, gpus=0) # quite rapid"
   ]
  },
  {
   "cell_type": "code",
   "execution_count": 7,
   "metadata": {},
   "outputs": [
    {
     "name": "stdout",
     "output_type": "stream",
     "text": [
      "Prediction([('scores', [0.8417138457298279, 0.7745394110679626]), ('system_score', 0.8081266283988953)])\n"
     ]
    }
   ],
   "source": [
    "print(model_output)"
   ]
  },
  {
   "cell_type": "code",
   "execution_count": 41,
   "metadata": {},
   "outputs": [
    {
     "name": "stdout",
     "output_type": "stream",
     "text": [
      "API Key loaded: sk-pr...\n",
      "API Key loaded: AIzaS...\n"
     ]
    }
   ],
   "source": [
    "load_dotenv()  # Load variables from .env file\n",
    "\n",
    "openai_api_key = os.getenv(\"OPENAI_API_KEY\")\n",
    "print(\"API Key loaded:\", openai_api_key[:5] + \"...\" if openai_api_key else \"Not found\")\n",
    "\n",
    "# Set your OpenAI API key\n",
    "client = OpenAI(\n",
    "    api_key=openai_api_key\n",
    ")\n",
    "\n",
    "googletranslate_api_key = os.getenv(\"GOOGLE_API_KEY\")\n",
    "print(\"API Key loaded:\", googletranslate_api_key[:5] + \"...\" if googletranslate_api_key else \"Not found\")\n",
    "GOOGLE_API_KEY = googletranslate_api_key"
   ]
  },
  {
   "cell_type": "code",
   "execution_count": 45,
   "metadata": {},
   "outputs": [
    {
     "name": "stderr",
     "output_type": "stream",
     "text": [
      "HTTP Request: POST https://api.openai.com/v1/chat/completions \"HTTP/1.1 200 OK\"\n"
     ]
    },
    {
     "name": "stdout",
     "output_type": "stream",
     "text": [
      "Hello\n"
     ]
    }
   ],
   "source": [
    "def askChatGPT(user_input, language_input):\n",
    "    if (language_input == \"eng_to_spa\"):\n",
    "        language_selector = \"English to Spanish\"\n",
    "    elif (language_input == \"spa_to_eng\"):\n",
    "        language_selector = \"Spanish to English\"\n",
    "    \n",
    "    try:\n",
    "        # Use the OpenAI API to get a response from ChatGPT\n",
    "        completion = client.chat.completions.create(\n",
    "            model=\"gpt-4o-mini\",\n",
    "            messages=[\n",
    "                {\n",
    "                    \"role\": \"system\",\n",
    "                    \"content\": \"You are a helpful assistant. Please translate the following text from \"+language_selector+\". Include the translation and nothing else.\"\n",
    "                },\n",
    "                {\n",
    "                    \"role\": \"user\",\n",
    "                    \"content\": user_input\n",
    "                }\n",
    "            ]\n",
    "        )\n",
    "\n",
    "        #print(completion.choices[0].message)\n",
    "        result = completion.choices[0].message.content  # Correctly access content\n",
    "        return result\n",
    "        # return completion.choices[0]\n",
    "    \n",
    "    except Exception as e:\n",
    "        print(e)\n",
    "        return \"ERROR\"\n",
    "\n",
    "result = askChatGPT(\"Hola\", \"spa_to_eng\")\n",
    "print(result)"
   ]
  },
  {
   "cell_type": "code",
   "execution_count": 42,
   "metadata": {},
   "outputs": [
    {
     "name": "stdout",
     "output_type": "stream",
     "text": [
      "translated text returned: {'data': {'translations': [{'translatedText': 'Hello'}]}}\n",
      "translated text parsed: Hello\n",
      "Hello\n"
     ]
    }
   ],
   "source": [
    "def askGoogleTranslate(text_to_translate, language_input):\n",
    "    source_language = ''\n",
    "    target_language = ''\n",
    "    if (language_input == \"eng_to_spa\"):\n",
    "        source_language = \"en\"\n",
    "        target_language = \"es\"\n",
    "    elif (language_input == \"spa_to_eng\"):\n",
    "        source_language = \"es\"\n",
    "        target_language = \"en\"\n",
    "\n",
    "    # Make the request to Google Translate API\n",
    "    try:\n",
    "        # Set up the URL for Google Translate API\n",
    "        url = f\"https://translation.googleapis.com/language/translate/v2\"\n",
    "\n",
    "        # Payload for the API request\n",
    "        params = {\n",
    "            'q': text_to_translate,\n",
    "            'target': target_language,\n",
    "            'source': source_language,\n",
    "            #'key': \"invalid_key\"\n",
    "            'key': GOOGLE_API_KEY\n",
    "        }\n",
    "\n",
    "        # Make the request to the Google Translate API\n",
    "        response = requests.get(url, params=params)\n",
    "\n",
    "        # Check if the response is successful\n",
    "        if response.status_code != 200:\n",
    "            print(\"Google Translate API has returned an error\")\n",
    "            #return jsonify({\"error\": \"Translation API request failed\"})\n",
    "            print(response)\n",
    "            return response\n",
    "        \n",
    "\n",
    "        # Extract the translated text from the API response\n",
    "        print(\"translated text returned: \"+ str(response.json()))\n",
    "        #translated_text = response.json().translations[0].translatedText\n",
    "        translated_text = response.json()['data']['translations'][0]['translatedText']\n",
    "        print(\"translated text parsed: \"+ translated_text)\n",
    "\n",
    "        # Return the translated text\n",
    "        return translated_text\n",
    "\n",
    "    except Exception as e:\n",
    "        print(str(e))\n",
    "        return \"ERROR\"\n",
    "    \n",
    "result = askGoogleTranslate(\"Hola\", \"spa_to_eng\")\n",
    "print(result)"
   ]
  },
  {
   "cell_type": "code",
   "execution_count": 11,
   "metadata": {},
   "outputs": [
    {
     "name": "stdout",
     "output_type": "stream",
     "text": [
      "[[\"Tom told Mary that he wouldn't be doing anything dangerous.\"\n",
      "  'Tom le dijo a Mary que él no haría nada peligroso.']\n",
      " ['Tom took one of the shirts out of the closet and put it on.'\n",
      "  'Tom sacó una de las camisas del armario y se la puso.']\n",
      " ['Tom took the CD out of its case and put it into the player.'\n",
      "  'Tom sacó el CD de su caja y lo puso en el reproductor.']\n",
      " ['Tom wanted to eat at the small restaurant behind the hotel.'\n",
      "  'Tom quería comer en el pequeño restaurante detrás del hotel.']\n",
      " ['Tom was caught red-handed, stealing from the cash register.'\n",
      "  'Tom fue atrapado con las manos en la masa, robando de la caja registradora.']\n",
      " ['Tom was looking for some people to help him move his piano.'\n",
      "  'Tom estaba buscando gente que le ayudara a mover su piano.']\n",
      " ['Tom was really glad to hear that Mary had passed her exams.'\n",
      "  'Tom estaba realmente contento al oír que María había aprobado sus exámenes.']\n",
      " ['Tom was relieved to hear that Mary had arrived home safely.'\n",
      "  'Tom estaba aliviado al oír que María había llegado sana y salva a casa.']\n",
      " ['Tom was stupid enough to challenge Mary to a game of chess.'\n",
      "  'Tom fue lo suficientemente estúpido para desafiar a María a una partida de ajedrez.']\n",
      " ['Tom was unable to remember what he had eaten for breakfast.'\n",
      "  'Tom no podía recordar qué había comido de desayuno.']]\n"
     ]
    }
   ],
   "source": [
    "def read_csv_partial_to_numpy(csv_file_path, start_line=100_000, num_lines=100):\n",
    "    try:\n",
    "        # Read specific part of CSV: skip first (start_line) rows, then read (num_lines) rows\n",
    "        df = pd.read_csv(\n",
    "            csv_file_path,\n",
    "            encoding='utf-8-sig',\n",
    "            skiprows=range(1, start_line + 1),  # skip header and up to start_line\n",
    "            nrows=num_lines  # read only num_lines rows\n",
    "        )\n",
    "        \n",
    "        # Convert DataFrame to NumPy array\n",
    "        numpy_array = df.to_numpy()\n",
    "        return numpy_array\n",
    "    \n",
    "    except FileNotFoundError:\n",
    "        print(f\"Error: The file '{csv_file_path}' does not exist.\")\n",
    "        return None\n",
    "    except Exception as e:\n",
    "        print(f\"An error occurred: {e}\")\n",
    "        return None\n",
    "\n",
    "csv_file_path = '../public_database/data.csv'\n",
    "numpy_array = read_csv_partial_to_numpy(csv_file_path, start_line=114_800, num_lines=100)\n",
    "\n",
    "print(numpy_array[:10])"
   ]
  },
  {
   "cell_type": "code",
   "execution_count": 57,
   "metadata": {},
   "outputs": [
    {
     "name": "stdout",
     "output_type": "stream",
     "text": [
      "Tom was unable to remember what he had eaten for breakfast.\n",
      "Tom no podía recordar qué había comido de desayuno.\n"
     ]
    },
    {
     "name": "stderr",
     "output_type": "stream",
     "text": [
      "HTTP Request: POST https://api.openai.com/v1/chat/completions \"HTTP/1.1 200 OK\"\n"
     ]
    },
    {
     "name": "stdout",
     "output_type": "stream",
     "text": [
      "Tom no pudo recordar qué había comido para el desayuno.\n"
     ]
    },
    {
     "name": "stderr",
     "output_type": "stream",
     "text": [
      "GPU available: False, used: False\n",
      "TPU available: False, using: 0 TPU cores\n",
      "HPU available: False, using: 0 HPUs\n"
     ]
    },
    {
     "name": "stdout",
     "output_type": "stream",
     "text": [
      "translated text returned: {'data': {'translations': [{'translatedText': 'Tom no podía recordar lo que había comido en el desayuno.'}]}}\n",
      "translated text parsed: Tom no podía recordar lo que había comido en el desayuno.\n",
      "Tom no podía recordar lo que había comido en el desayuno.\n"
     ]
    },
    {
     "name": "stderr",
     "output_type": "stream",
     "text": [
      "Predicting DataLoader 0: 100%|██████████| 1/1 [00:01<00:00,  1.49s/it]"
     ]
    },
    {
     "name": "stdout",
     "output_type": "stream",
     "text": [
      "Prediction([('scores', [0.9383423328399658, 0.9229668974876404]), ('system_score', 0.9306546151638031)])\n",
      "['Tom was unable to remember what he had eaten for breakfast.'\n",
      " 'Tom no podía recordar qué había comido de desayuno.'\n",
      " 'Tom no pudo recordar qué había comido para el desayuno.'\n",
      " 'Tom no podía recordar lo que había comido en el desayuno.']\n",
      "[{'src': 'Tom was unable to remember what he had eaten for breakfast.', 'ref': 'Tom no podía recordar qué había comido de desayuno.', 'mt': 'Tom no pudo recordar qué había comido para el desayuno.'}\n",
      " {'src': 'Tom was unable to remember what he had eaten for breakfast.', 'ref': 'Tom no podía recordar qué había comido de desayuno.', 'mt': 'Tom no podía recordar lo que había comido en el desayuno.'}]\n"
     ]
    },
    {
     "name": "stderr",
     "output_type": "stream",
     "text": [
      "\n"
     ]
    }
   ],
   "source": [
    "translated = []\n",
    "data_array = []\n",
    "evaluated = []\n",
    "\n",
    "for i in range(9, 10):\n",
    "    cur = []\n",
    "    src = numpy_array[i][0]\n",
    "    print(src)\n",
    "    ref = numpy_array[i][1]\n",
    "    print(ref)\n",
    "    chatgpt = askChatGPT(src, \"eng_to_spa\")\n",
    "    print(chatgpt)\n",
    "    googletranslate = askGoogleTranslate(src, \"eng_to_spa\")\n",
    "    print(googletranslate)\n",
    "\n",
    "    cur.append(src)\n",
    "    cur.append(ref)\n",
    "    cur.append(chatgpt)\n",
    "    cur.append(googletranslate)\n",
    "    translated.append(cur)\n",
    "\n",
    "    #Prepare the data for prediction (src, mt) pairs\n",
    "    data = [\n",
    "        {\n",
    "            \"src\": src,  # Source sentence\n",
    "            \"ref\": ref,\n",
    "            \"mt\": chatgpt   # Machine translation\n",
    "        },\n",
    "        {\n",
    "            \"src\": src,  # Source sentence\n",
    "            \"ref\": ref,\n",
    "            \"mt\": googletranslate   # Another machine translation for comparison\n",
    "        }\n",
    "    ]\n",
    "    \n",
    "    # Call the predict method\n",
    "    model_output = model.predict(data, batch_size=8, gpus=0)\n",
    "    data_array.append(data)\n",
    "    evaluated.append(model_output)  # Save the prediction result\n",
    "\n",
    "translated_array = np.array(translated)\n",
    "evaluated_array = np.array(evaluated)\n",
    "data_nparray = np.array(data_array)\n",
    "np.save('checkpoints/analysis_app_data/translated_114800_100.npy', translated_array)\n",
    "np.save('checkpoints/analysis_app_data/evaluated_114800_100.npy', evaluated_array)\n",
    "np.save('checkpoints/analysis_app_data/data_114800_100.npy', data_nparray)\n",
    "print(evaluated_array[0])\n",
    "print(translated_array[0])\n",
    "print(data_nparray[0])"
   ]
  }
 ],
 "metadata": {
  "kernelspec": {
   "display_name": "Python (venv)",
   "language": "python",
   "name": "venv"
  },
  "language_info": {
   "codemirror_mode": {
    "name": "ipython",
    "version": 3
   },
   "file_extension": ".py",
   "mimetype": "text/x-python",
   "name": "python",
   "nbconvert_exporter": "python",
   "pygments_lexer": "ipython3",
   "version": "3.10.1"
  }
 },
 "nbformat": 4,
 "nbformat_minor": 2
}
